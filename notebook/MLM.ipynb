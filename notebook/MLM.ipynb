{
 "cells": [
  {
   "cell_type": "code",
   "execution_count": 1,
   "id": "8c8b5b75-0f56-438b-bd00-fbdfb3c3d515",
   "metadata": {},
   "outputs": [
    {
     "name": "stdout",
     "output_type": "stream",
     "text": [
      "Collecting torch==2.1.0\n",
      "  Downloading torch-2.1.0-cp310-cp310-manylinux1_x86_64.whl.metadata (25 kB)\n",
      "Collecting torchvision==0.16\n",
      "  Downloading torchvision-0.16.0-cp310-cp310-manylinux1_x86_64.whl.metadata (6.6 kB)\n",
      "Collecting transformers\n",
      "  Downloading transformers-4.46.3-py3-none-any.whl.metadata (44 kB)\n",
      "Requirement already satisfied: sagemaker in /home/ec2-user/anaconda3/envs/pytorch_p310/lib/python3.10/site-packages (2.232.3)\n",
      "Collecting sagemaker\n",
      "  Downloading sagemaker-2.235.2-py3-none-any.whl.metadata (16 kB)\n",
      "Collecting sentencepiece\n",
      "  Downloading sentencepiece-0.2.0-cp310-cp310-manylinux_2_17_x86_64.manylinux2014_x86_64.whl.metadata (7.7 kB)\n",
      "Collecting accelerate\n",
      "  Downloading accelerate-1.1.1-py3-none-any.whl.metadata (19 kB)\n",
      "Collecting datasets\n",
      "  Downloading datasets-3.1.0-py3-none-any.whl.metadata (20 kB)\n",
      "Requirement already satisfied: filelock in /home/ec2-user/anaconda3/envs/pytorch_p310/lib/python3.10/site-packages (from torch==2.1.0) (3.16.1)\n",
      "Requirement already satisfied: typing-extensions in /home/ec2-user/anaconda3/envs/pytorch_p310/lib/python3.10/site-packages (from torch==2.1.0) (4.12.2)\n",
      "Requirement already satisfied: sympy in /home/ec2-user/anaconda3/envs/pytorch_p310/lib/python3.10/site-packages (from torch==2.1.0) (1.13.3)\n",
      "Requirement already satisfied: networkx in /home/ec2-user/anaconda3/envs/pytorch_p310/lib/python3.10/site-packages (from torch==2.1.0) (3.4.2)\n",
      "Requirement already satisfied: jinja2 in /home/ec2-user/anaconda3/envs/pytorch_p310/lib/python3.10/site-packages (from torch==2.1.0) (3.1.4)\n",
      "Requirement already satisfied: fsspec in /home/ec2-user/anaconda3/envs/pytorch_p310/lib/python3.10/site-packages (from torch==2.1.0) (2024.10.0)\n",
      "Collecting nvidia-cuda-nvrtc-cu12==12.1.105 (from torch==2.1.0)\n",
      "  Downloading nvidia_cuda_nvrtc_cu12-12.1.105-py3-none-manylinux1_x86_64.whl.metadata (1.5 kB)\n",
      "Collecting nvidia-cuda-runtime-cu12==12.1.105 (from torch==2.1.0)\n",
      "  Downloading nvidia_cuda_runtime_cu12-12.1.105-py3-none-manylinux1_x86_64.whl.metadata (1.5 kB)\n",
      "Collecting nvidia-cuda-cupti-cu12==12.1.105 (from torch==2.1.0)\n",
      "  Downloading nvidia_cuda_cupti_cu12-12.1.105-py3-none-manylinux1_x86_64.whl.metadata (1.6 kB)\n",
      "Collecting nvidia-cudnn-cu12==8.9.2.26 (from torch==2.1.0)\n",
      "  Downloading nvidia_cudnn_cu12-8.9.2.26-py3-none-manylinux1_x86_64.whl.metadata (1.6 kB)\n",
      "Collecting nvidia-cublas-cu12==12.1.3.1 (from torch==2.1.0)\n",
      "  Downloading nvidia_cublas_cu12-12.1.3.1-py3-none-manylinux1_x86_64.whl.metadata (1.5 kB)\n",
      "Collecting nvidia-cufft-cu12==11.0.2.54 (from torch==2.1.0)\n",
      "  Downloading nvidia_cufft_cu12-11.0.2.54-py3-none-manylinux1_x86_64.whl.metadata (1.5 kB)\n",
      "Collecting nvidia-curand-cu12==10.3.2.106 (from torch==2.1.0)\n",
      "  Downloading nvidia_curand_cu12-10.3.2.106-py3-none-manylinux1_x86_64.whl.metadata (1.5 kB)\n",
      "Collecting nvidia-cusolver-cu12==11.4.5.107 (from torch==2.1.0)\n",
      "  Downloading nvidia_cusolver_cu12-11.4.5.107-py3-none-manylinux1_x86_64.whl.metadata (1.6 kB)\n",
      "Collecting nvidia-cusparse-cu12==12.1.0.106 (from torch==2.1.0)\n",
      "  Downloading nvidia_cusparse_cu12-12.1.0.106-py3-none-manylinux1_x86_64.whl.metadata (1.6 kB)\n",
      "Collecting nvidia-nccl-cu12==2.18.1 (from torch==2.1.0)\n",
      "  Downloading nvidia_nccl_cu12-2.18.1-py3-none-manylinux1_x86_64.whl.metadata (1.8 kB)\n",
      "Collecting nvidia-nvtx-cu12==12.1.105 (from torch==2.1.0)\n",
      "  Downloading nvidia_nvtx_cu12-12.1.105-py3-none-manylinux1_x86_64.whl.metadata (1.7 kB)\n",
      "Collecting triton==2.1.0 (from torch==2.1.0)\n",
      "  Downloading triton-2.1.0-0-cp310-cp310-manylinux2014_x86_64.manylinux_2_17_x86_64.whl.metadata (1.3 kB)\n",
      "Requirement already satisfied: numpy in /home/ec2-user/anaconda3/envs/pytorch_p310/lib/python3.10/site-packages (from torchvision==0.16) (1.26.4)\n",
      "Requirement already satisfied: requests in /home/ec2-user/anaconda3/envs/pytorch_p310/lib/python3.10/site-packages (from torchvision==0.16) (2.32.3)\n",
      "Requirement already satisfied: pillow!=8.3.*,>=5.3.0 in /home/ec2-user/anaconda3/envs/pytorch_p310/lib/python3.10/site-packages (from torchvision==0.16) (11.0.0)\n",
      "Collecting nvidia-nvjitlink-cu12 (from nvidia-cusolver-cu12==11.4.5.107->torch==2.1.0)\n",
      "  Downloading nvidia_nvjitlink_cu12-12.6.85-py3-none-manylinux2010_x86_64.manylinux_2_12_x86_64.whl.metadata (1.5 kB)\n",
      "Collecting huggingface-hub<1.0,>=0.23.2 (from transformers)\n",
      "  Downloading huggingface_hub-0.26.3-py3-none-any.whl.metadata (13 kB)\n",
      "Requirement already satisfied: packaging>=20.0 in /home/ec2-user/anaconda3/envs/pytorch_p310/lib/python3.10/site-packages (from transformers) (21.3)\n",
      "Requirement already satisfied: pyyaml>=5.1 in /home/ec2-user/anaconda3/envs/pytorch_p310/lib/python3.10/site-packages (from transformers) (6.0.2)\n",
      "Collecting regex!=2019.12.17 (from transformers)\n",
      "  Downloading regex-2024.11.6-cp310-cp310-manylinux_2_17_x86_64.manylinux2014_x86_64.whl.metadata (40 kB)\n",
      "Collecting tokenizers<0.21,>=0.20 (from transformers)\n",
      "  Downloading tokenizers-0.20.3-cp310-cp310-manylinux_2_17_x86_64.manylinux2014_x86_64.whl.metadata (6.7 kB)\n",
      "Collecting safetensors>=0.4.1 (from transformers)\n",
      "  Downloading safetensors-0.4.5-cp310-cp310-manylinux_2_17_x86_64.manylinux2014_x86_64.whl.metadata (3.8 kB)\n",
      "Requirement already satisfied: tqdm>=4.27 in /home/ec2-user/anaconda3/envs/pytorch_p310/lib/python3.10/site-packages (from transformers) (4.66.5)\n",
      "Requirement already satisfied: attrs<24,>=23.1.0 in /home/ec2-user/anaconda3/envs/pytorch_p310/lib/python3.10/site-packages (from sagemaker) (23.2.0)\n",
      "Requirement already satisfied: boto3<2.0,>=1.34.142 in /home/ec2-user/anaconda3/envs/pytorch_p310/lib/python3.10/site-packages (from sagemaker) (1.35.53)\n",
      "Requirement already satisfied: cloudpickle==2.2.1 in /home/ec2-user/anaconda3/envs/pytorch_p310/lib/python3.10/site-packages (from sagemaker) (2.2.1)\n",
      "Requirement already satisfied: docker in /home/ec2-user/anaconda3/envs/pytorch_p310/lib/python3.10/site-packages (from sagemaker) (7.1.0)\n",
      "Requirement already satisfied: google-pasta in /home/ec2-user/anaconda3/envs/pytorch_p310/lib/python3.10/site-packages (from sagemaker) (0.2.0)\n",
      "Requirement already satisfied: importlib-metadata<7.0,>=1.4.0 in /home/ec2-user/anaconda3/envs/pytorch_p310/lib/python3.10/site-packages (from sagemaker) (6.11.0)\n",
      "Requirement already satisfied: jsonschema in /home/ec2-user/anaconda3/envs/pytorch_p310/lib/python3.10/site-packages (from sagemaker) (4.23.0)\n",
      "Requirement already satisfied: pandas in /home/ec2-user/anaconda3/envs/pytorch_p310/lib/python3.10/site-packages (from sagemaker) (1.5.3)\n",
      "Requirement already satisfied: pathos in /home/ec2-user/anaconda3/envs/pytorch_p310/lib/python3.10/site-packages (from sagemaker) (0.3.3)\n",
      "Requirement already satisfied: platformdirs in /home/ec2-user/anaconda3/envs/pytorch_p310/lib/python3.10/site-packages (from sagemaker) (4.3.6)\n",
      "Requirement already satisfied: protobuf<5.0,>=3.12 in /home/ec2-user/anaconda3/envs/pytorch_p310/lib/python3.10/site-packages (from sagemaker) (4.25.5)\n",
      "Requirement already satisfied: psutil in /home/ec2-user/anaconda3/envs/pytorch_p310/lib/python3.10/site-packages (from sagemaker) (6.0.0)\n",
      "Collecting sagemaker-core<2.0.0,>=1.0.15 (from sagemaker)\n",
      "  Downloading sagemaker_core-1.0.16-py3-none-any.whl.metadata (4.9 kB)\n",
      "Requirement already satisfied: schema in /home/ec2-user/anaconda3/envs/pytorch_p310/lib/python3.10/site-packages (from sagemaker) (0.7.7)\n",
      "Requirement already satisfied: smdebug-rulesconfig==1.0.1 in /home/ec2-user/anaconda3/envs/pytorch_p310/lib/python3.10/site-packages (from sagemaker) (1.0.1)\n",
      "Requirement already satisfied: tblib<4,>=1.7.0 in /home/ec2-user/anaconda3/envs/pytorch_p310/lib/python3.10/site-packages (from sagemaker) (3.0.0)\n",
      "Requirement already satisfied: urllib3<3.0.0,>=1.26.8 in /home/ec2-user/anaconda3/envs/pytorch_p310/lib/python3.10/site-packages (from sagemaker) (2.2.3)\n",
      "Requirement already satisfied: pyarrow>=15.0.0 in /home/ec2-user/anaconda3/envs/pytorch_p310/lib/python3.10/site-packages (from datasets) (17.0.0)\n",
      "Collecting dill<0.3.9,>=0.3.0 (from datasets)\n",
      "  Downloading dill-0.3.8-py3-none-any.whl.metadata (10 kB)\n",
      "Collecting xxhash (from datasets)\n",
      "  Downloading xxhash-3.5.0-cp310-cp310-manylinux_2_17_x86_64.manylinux2014_x86_64.whl.metadata (12 kB)\n",
      "Collecting multiprocess<0.70.17 (from datasets)\n",
      "  Downloading multiprocess-0.70.16-py310-none-any.whl.metadata (7.2 kB)\n",
      "Collecting fsspec (from torch==2.1.0)\n",
      "  Downloading fsspec-2024.9.0-py3-none-any.whl.metadata (11 kB)\n",
      "Collecting aiohttp (from datasets)\n",
      "  Downloading aiohttp-3.11.8-cp310-cp310-manylinux_2_17_x86_64.manylinux2014_x86_64.whl.metadata (7.7 kB)\n",
      "Requirement already satisfied: botocore<1.36.0,>=1.35.53 in /home/ec2-user/anaconda3/envs/pytorch_p310/lib/python3.10/site-packages (from boto3<2.0,>=1.34.142->sagemaker) (1.35.53)\n",
      "Requirement already satisfied: jmespath<2.0.0,>=0.7.1 in /home/ec2-user/anaconda3/envs/pytorch_p310/lib/python3.10/site-packages (from boto3<2.0,>=1.34.142->sagemaker) (1.0.1)\n",
      "Requirement already satisfied: s3transfer<0.11.0,>=0.10.0 in /home/ec2-user/anaconda3/envs/pytorch_p310/lib/python3.10/site-packages (from boto3<2.0,>=1.34.142->sagemaker) (0.10.3)\n",
      "Collecting aiohappyeyeballs>=2.3.0 (from aiohttp->datasets)\n",
      "  Downloading aiohappyeyeballs-2.4.3-py3-none-any.whl.metadata (6.1 kB)\n",
      "Collecting aiosignal>=1.1.2 (from aiohttp->datasets)\n",
      "  Downloading aiosignal-1.3.1-py3-none-any.whl.metadata (4.0 kB)\n",
      "Collecting async-timeout<6.0,>=4.0 (from aiohttp->datasets)\n",
      "  Downloading async_timeout-5.0.1-py3-none-any.whl.metadata (5.1 kB)\n",
      "Collecting frozenlist>=1.1.1 (from aiohttp->datasets)\n",
      "  Downloading frozenlist-1.5.0-cp310-cp310-manylinux_2_5_x86_64.manylinux1_x86_64.manylinux_2_17_x86_64.manylinux2014_x86_64.whl.metadata (13 kB)\n",
      "Collecting multidict<7.0,>=4.5 (from aiohttp->datasets)\n",
      "  Downloading multidict-6.1.0-cp310-cp310-manylinux_2_17_x86_64.manylinux2014_x86_64.whl.metadata (5.0 kB)\n",
      "Collecting propcache>=0.2.0 (from aiohttp->datasets)\n",
      "  Downloading propcache-0.2.0-cp310-cp310-manylinux_2_17_x86_64.manylinux2014_x86_64.whl.metadata (7.7 kB)\n",
      "Collecting yarl<2.0,>=1.17.0 (from aiohttp->datasets)\n",
      "  Downloading yarl-1.18.0-cp310-cp310-manylinux_2_17_x86_64.manylinux2014_x86_64.whl.metadata (67 kB)\n",
      "Requirement already satisfied: zipp>=0.5 in /home/ec2-user/anaconda3/envs/pytorch_p310/lib/python3.10/site-packages (from importlib-metadata<7.0,>=1.4.0->sagemaker) (3.20.2)\n",
      "Requirement already satisfied: pyparsing!=3.0.5,>=2.0.2 in /home/ec2-user/anaconda3/envs/pytorch_p310/lib/python3.10/site-packages (from packaging>=20.0->transformers) (3.2.0)\n",
      "Requirement already satisfied: charset-normalizer<4,>=2 in /home/ec2-user/anaconda3/envs/pytorch_p310/lib/python3.10/site-packages (from requests->torchvision==0.16) (3.4.0)\n",
      "Requirement already satisfied: idna<4,>=2.5 in /home/ec2-user/anaconda3/envs/pytorch_p310/lib/python3.10/site-packages (from requests->torchvision==0.16) (3.10)\n",
      "Requirement already satisfied: certifi>=2017.4.17 in /home/ec2-user/anaconda3/envs/pytorch_p310/lib/python3.10/site-packages (from requests->torchvision==0.16) (2024.8.30)\n",
      "Requirement already satisfied: pydantic<3.0.0,>=2.0.0 in /home/ec2-user/anaconda3/envs/pytorch_p310/lib/python3.10/site-packages (from sagemaker-core<2.0.0,>=1.0.15->sagemaker) (2.9.2)\n",
      "Requirement already satisfied: rich<14.0.0,>=13.0.0 in /home/ec2-user/anaconda3/envs/pytorch_p310/lib/python3.10/site-packages (from sagemaker-core<2.0.0,>=1.0.15->sagemaker) (13.9.3)\n",
      "Requirement already satisfied: mock<5.0,>4.0 in /home/ec2-user/anaconda3/envs/pytorch_p310/lib/python3.10/site-packages (from sagemaker-core<2.0.0,>=1.0.15->sagemaker) (4.0.3)\n",
      "Requirement already satisfied: jsonschema-specifications>=2023.03.6 in /home/ec2-user/anaconda3/envs/pytorch_p310/lib/python3.10/site-packages (from jsonschema->sagemaker) (2024.10.1)\n",
      "Requirement already satisfied: referencing>=0.28.4 in /home/ec2-user/anaconda3/envs/pytorch_p310/lib/python3.10/site-packages (from jsonschema->sagemaker) (0.35.1)\n",
      "Requirement already satisfied: rpds-py>=0.7.1 in /home/ec2-user/anaconda3/envs/pytorch_p310/lib/python3.10/site-packages (from jsonschema->sagemaker) (0.20.0)\n",
      "Requirement already satisfied: six in /home/ec2-user/anaconda3/envs/pytorch_p310/lib/python3.10/site-packages (from google-pasta->sagemaker) (1.16.0)\n",
      "Requirement already satisfied: MarkupSafe>=2.0 in /home/ec2-user/anaconda3/envs/pytorch_p310/lib/python3.10/site-packages (from jinja2->torch==2.1.0) (3.0.2)\n",
      "Requirement already satisfied: python-dateutil>=2.8.1 in /home/ec2-user/anaconda3/envs/pytorch_p310/lib/python3.10/site-packages (from pandas->sagemaker) (2.9.0)\n",
      "Requirement already satisfied: pytz>=2020.1 in /home/ec2-user/anaconda3/envs/pytorch_p310/lib/python3.10/site-packages (from pandas->sagemaker) (2024.1)\n",
      "Requirement already satisfied: ppft>=1.7.6.9 in /home/ec2-user/anaconda3/envs/pytorch_p310/lib/python3.10/site-packages (from pathos->sagemaker) (1.7.6.9)\n",
      "INFO: pip is looking at multiple versions of pathos to determine which version is compatible with other requirements. This could take a while.\n",
      "Collecting pathos (from sagemaker)\n",
      "  Downloading pathos-0.3.2-py3-none-any.whl.metadata (11 kB)\n",
      "Requirement already satisfied: pox>=0.3.4 in /home/ec2-user/anaconda3/envs/pytorch_p310/lib/python3.10/site-packages (from pathos->sagemaker) (0.3.5)\n",
      "Requirement already satisfied: mpmath<1.4,>=1.1.0 in /home/ec2-user/anaconda3/envs/pytorch_p310/lib/python3.10/site-packages (from sympy->torch==2.1.0) (1.3.0)\n",
      "Requirement already satisfied: annotated-types>=0.6.0 in /home/ec2-user/anaconda3/envs/pytorch_p310/lib/python3.10/site-packages (from pydantic<3.0.0,>=2.0.0->sagemaker-core<2.0.0,>=1.0.15->sagemaker) (0.7.0)\n",
      "Requirement already satisfied: pydantic-core==2.23.4 in /home/ec2-user/anaconda3/envs/pytorch_p310/lib/python3.10/site-packages (from pydantic<3.0.0,>=2.0.0->sagemaker-core<2.0.0,>=1.0.15->sagemaker) (2.23.4)\n",
      "Requirement already satisfied: markdown-it-py>=2.2.0 in /home/ec2-user/anaconda3/envs/pytorch_p310/lib/python3.10/site-packages (from rich<14.0.0,>=13.0.0->sagemaker-core<2.0.0,>=1.0.15->sagemaker) (3.0.0)\n",
      "Requirement already satisfied: pygments<3.0.0,>=2.13.0 in /home/ec2-user/anaconda3/envs/pytorch_p310/lib/python3.10/site-packages (from rich<14.0.0,>=13.0.0->sagemaker-core<2.0.0,>=1.0.15->sagemaker) (2.18.0)\n",
      "Requirement already satisfied: mdurl~=0.1 in /home/ec2-user/anaconda3/envs/pytorch_p310/lib/python3.10/site-packages (from markdown-it-py>=2.2.0->rich<14.0.0,>=13.0.0->sagemaker-core<2.0.0,>=1.0.15->sagemaker) (0.1.2)\n",
      "Downloading torch-2.1.0-cp310-cp310-manylinux1_x86_64.whl (670.2 MB)\n",
      "\u001b[2K   \u001b[90m━━━━━━━━━━━━━━━━━━━━━━━━━━━━━━━━━━━━━━━━\u001b[0m \u001b[32m670.2/670.2 MB\u001b[0m \u001b[31m40.6 MB/s\u001b[0m eta \u001b[36m0:00:00\u001b[0m00:01\u001b[0m00:01\u001b[0m\n",
      "\u001b[?25hDownloading torchvision-0.16.0-cp310-cp310-manylinux1_x86_64.whl (6.9 MB)\n",
      "\u001b[2K   \u001b[90m━━━━━━━━━━━━━━━━━━━━━━━━━━━━━━━━━━━━━━━━\u001b[0m \u001b[32m6.9/6.9 MB\u001b[0m \u001b[31m124.2 MB/s\u001b[0m eta \u001b[36m0:00:00\u001b[0m\n",
      "\u001b[?25hDownloading nvidia_cublas_cu12-12.1.3.1-py3-none-manylinux1_x86_64.whl (410.6 MB)\n",
      "\u001b[2K   \u001b[90m━━━━━━━━━━━━━━━━━━━━━━━━━━━━━━━━━━━━━━━━\u001b[0m \u001b[32m410.6/410.6 MB\u001b[0m \u001b[31m38.2 MB/s\u001b[0m eta \u001b[36m0:00:00\u001b[0m00:01\u001b[0m00:01\u001b[0m\n",
      "\u001b[?25hDownloading nvidia_cuda_cupti_cu12-12.1.105-py3-none-manylinux1_x86_64.whl (14.1 MB)\n",
      "\u001b[2K   \u001b[90m━━━━━━━━━━━━━━━━━━━━━━━━━━━━━━━━━━━━━━━━\u001b[0m \u001b[32m14.1/14.1 MB\u001b[0m \u001b[31m133.9 MB/s\u001b[0m eta \u001b[36m0:00:00\u001b[0m\n",
      "\u001b[?25hDownloading nvidia_cuda_nvrtc_cu12-12.1.105-py3-none-manylinux1_x86_64.whl (23.7 MB)\n",
      "\u001b[2K   \u001b[90m━━━━━━━━━━━━━━━━━━━━━━━━━━━━━━━━━━━━━━━━\u001b[0m \u001b[32m23.7/23.7 MB\u001b[0m \u001b[31m156.0 MB/s\u001b[0m eta \u001b[36m0:00:00\u001b[0m\n",
      "\u001b[?25hDownloading nvidia_cuda_runtime_cu12-12.1.105-py3-none-manylinux1_x86_64.whl (823 kB)\n",
      "\u001b[2K   \u001b[90m━━━━━━━━━━━━━━━━━━━━━━━━━━━━━━━━━━━━━━━━\u001b[0m \u001b[32m823.6/823.6 kB\u001b[0m \u001b[31m99.8 MB/s\u001b[0m eta \u001b[36m0:00:00\u001b[0m\n",
      "\u001b[?25hDownloading nvidia_cudnn_cu12-8.9.2.26-py3-none-manylinux1_x86_64.whl (731.7 MB)\n",
      "\u001b[2K   \u001b[90m━━━━━━━━━━━━━━━━━━━━━━━━━━━━━━━━━━━━━━━━\u001b[0m \u001b[32m731.7/731.7 MB\u001b[0m \u001b[31m32.4 MB/s\u001b[0m eta \u001b[36m0:00:00\u001b[0m00:01\u001b[0m00:01\u001b[0m\n",
      "\u001b[?25hDownloading nvidia_cufft_cu12-11.0.2.54-py3-none-manylinux1_x86_64.whl (121.6 MB)\n",
      "\u001b[2K   \u001b[90m━━━━━━━━━━━━━━━━━━━━━━━━━━━━━━━━━━━━━━━\u001b[0m \u001b[32m121.6/121.6 MB\u001b[0m \u001b[31m108.4 MB/s\u001b[0m eta \u001b[36m0:00:00\u001b[0m00:01\u001b[0m00:01\u001b[0m\n",
      "\u001b[?25hDownloading nvidia_curand_cu12-10.3.2.106-py3-none-manylinux1_x86_64.whl (56.5 MB)\n",
      "\u001b[2K   \u001b[90m━━━━━━━━━━━━━━━━━━━━━━━━━━━━━━━━━━━━━━━━\u001b[0m \u001b[32m56.5/56.5 MB\u001b[0m \u001b[31m140.4 MB/s\u001b[0m eta \u001b[36m0:00:00\u001b[0m00:01\u001b[0m\n",
      "\u001b[?25hDownloading nvidia_cusolver_cu12-11.4.5.107-py3-none-manylinux1_x86_64.whl (124.2 MB)\n",
      "\u001b[2K   \u001b[90m━━━━━━━━━━━━━━━━━━━━━━━━━━━━━━━━━━━━━━━\u001b[0m \u001b[32m124.2/124.2 MB\u001b[0m \u001b[31m133.9 MB/s\u001b[0m eta \u001b[36m0:00:00\u001b[0m00:01\u001b[0m00:01\u001b[0m\n",
      "\u001b[?25hDownloading nvidia_cusparse_cu12-12.1.0.106-py3-none-manylinux1_x86_64.whl (196.0 MB)\n",
      "\u001b[2K   \u001b[90m━━━━━━━━━━━━━━━━━━━━━━━━━━━━━━━━━━━━━━━━\u001b[0m \u001b[32m196.0/196.0 MB\u001b[0m \u001b[31m70.4 MB/s\u001b[0m eta \u001b[36m0:00:00\u001b[0m00:01\u001b[0m00:01\u001b[0m\n",
      "\u001b[?25hDownloading nvidia_nccl_cu12-2.18.1-py3-none-manylinux1_x86_64.whl (209.8 MB)\n",
      "\u001b[2K   \u001b[90m━━━━━━━━━━━━━━━━━━━━━━━━━━━━━━━━━━━━━━━━\u001b[0m \u001b[32m209.8/209.8 MB\u001b[0m \u001b[31m51.1 MB/s\u001b[0m eta \u001b[36m0:00:00\u001b[0m00:01\u001b[0m00:01\u001b[0m\n",
      "\u001b[?25hDownloading nvidia_nvtx_cu12-12.1.105-py3-none-manylinux1_x86_64.whl (99 kB)\n",
      "Downloading triton-2.1.0-0-cp310-cp310-manylinux2014_x86_64.manylinux_2_17_x86_64.whl (89.2 MB)\n",
      "\u001b[2K   \u001b[90m━━━━━━━━━━━━━━━━━━━━━━━━━━━━━━━━━━━━━━━━\u001b[0m \u001b[32m89.2/89.2 MB\u001b[0m \u001b[31m51.7 MB/s\u001b[0m eta \u001b[36m0:00:00\u001b[0m:00:01\u001b[0m00:01\u001b[0m\n",
      "\u001b[?25hDownloading transformers-4.46.3-py3-none-any.whl (10.0 MB)\n",
      "\u001b[2K   \u001b[90m━━━━━━━━━━━━━━━━━━━━━━━━━━━━━━━━━━━━━━━━\u001b[0m \u001b[32m10.0/10.0 MB\u001b[0m \u001b[31m54.6 MB/s\u001b[0m eta \u001b[36m0:00:00\u001b[0m\n",
      "\u001b[?25hDownloading sagemaker-2.235.2-py3-none-any.whl (1.6 MB)\n",
      "\u001b[2K   \u001b[90m━━━━━━━━━━━━━━━━━━━━━━━━━━━━━━━━━━━━━━━━\u001b[0m \u001b[32m1.6/1.6 MB\u001b[0m \u001b[31m14.8 MB/s\u001b[0m eta \u001b[36m0:00:00\u001b[0m\n",
      "\u001b[?25hDownloading sentencepiece-0.2.0-cp310-cp310-manylinux_2_17_x86_64.manylinux2014_x86_64.whl (1.3 MB)\n",
      "\u001b[2K   \u001b[90m━━━━━━━━━━━━━━━━━━━━━━━━━━━━━━━━━━━━━━━━\u001b[0m \u001b[32m1.3/1.3 MB\u001b[0m \u001b[31m16.6 MB/s\u001b[0m eta \u001b[36m0:00:00\u001b[0m\n",
      "\u001b[?25hDownloading accelerate-1.1.1-py3-none-any.whl (333 kB)\n",
      "Downloading datasets-3.1.0-py3-none-any.whl (480 kB)\n",
      "Downloading dill-0.3.8-py3-none-any.whl (116 kB)\n",
      "Downloading fsspec-2024.9.0-py3-none-any.whl (179 kB)\n",
      "Downloading aiohttp-3.11.8-cp310-cp310-manylinux_2_17_x86_64.manylinux2014_x86_64.whl (1.6 MB)\n",
      "\u001b[2K   \u001b[90m━━━━━━━━━━━━━━━━━━━━━━━━━━━━━━━━━━━━━━━━\u001b[0m \u001b[32m1.6/1.6 MB\u001b[0m \u001b[31m21.2 MB/s\u001b[0m eta \u001b[36m0:00:00\u001b[0m\n",
      "\u001b[?25hDownloading huggingface_hub-0.26.3-py3-none-any.whl (447 kB)\n",
      "Downloading multiprocess-0.70.16-py310-none-any.whl (134 kB)\n",
      "Downloading regex-2024.11.6-cp310-cp310-manylinux_2_17_x86_64.manylinux2014_x86_64.whl (781 kB)\n",
      "\u001b[2K   \u001b[90m━━━━━━━━━━━━━━━━━━━━━━━━━━━━━━━━━━━━━━━━\u001b[0m \u001b[32m781.7/781.7 kB\u001b[0m \u001b[31m14.8 MB/s\u001b[0m eta \u001b[36m0:00:00\u001b[0m\n",
      "\u001b[?25hDownloading safetensors-0.4.5-cp310-cp310-manylinux_2_17_x86_64.manylinux2014_x86_64.whl (435 kB)\n",
      "Downloading sagemaker_core-1.0.16-py3-none-any.whl (389 kB)\n",
      "Downloading tokenizers-0.20.3-cp310-cp310-manylinux_2_17_x86_64.manylinux2014_x86_64.whl (3.0 MB)\n",
      "\u001b[2K   \u001b[90m━━━━━━━━━━━━━━━━━━━━━━━━━━━━━━━━━━━━━━━━\u001b[0m \u001b[32m3.0/3.0 MB\u001b[0m \u001b[31m37.9 MB/s\u001b[0m eta \u001b[36m0:00:00\u001b[0m\n",
      "\u001b[?25hDownloading pathos-0.3.2-py3-none-any.whl (82 kB)\n",
      "Downloading xxhash-3.5.0-cp310-cp310-manylinux_2_17_x86_64.manylinux2014_x86_64.whl (194 kB)\n",
      "Downloading aiohappyeyeballs-2.4.3-py3-none-any.whl (14 kB)\n",
      "Downloading aiosignal-1.3.1-py3-none-any.whl (7.6 kB)\n",
      "Downloading async_timeout-5.0.1-py3-none-any.whl (6.2 kB)\n",
      "Downloading frozenlist-1.5.0-cp310-cp310-manylinux_2_5_x86_64.manylinux1_x86_64.manylinux_2_17_x86_64.manylinux2014_x86_64.whl (241 kB)\n",
      "Downloading multidict-6.1.0-cp310-cp310-manylinux_2_17_x86_64.manylinux2014_x86_64.whl (124 kB)\n",
      "Downloading propcache-0.2.0-cp310-cp310-manylinux_2_17_x86_64.manylinux2014_x86_64.whl (208 kB)\n",
      "Downloading yarl-1.18.0-cp310-cp310-manylinux_2_17_x86_64.manylinux2014_x86_64.whl (319 kB)\n",
      "Downloading nvidia_nvjitlink_cu12-12.6.85-py3-none-manylinux2010_x86_64.manylinux_2_12_x86_64.whl (19.7 MB)\n",
      "\u001b[2K   \u001b[90m━━━━━━━━━━━━━━━━━━━━━━━━━━━━━━━━━━━━━━━━\u001b[0m \u001b[32m19.7/19.7 MB\u001b[0m \u001b[31m142.4 MB/s\u001b[0m eta \u001b[36m0:00:00\u001b[0m\n",
      "\u001b[?25hInstalling collected packages: sentencepiece, xxhash, triton, safetensors, regex, propcache, nvidia-nvtx-cu12, nvidia-nvjitlink-cu12, nvidia-nccl-cu12, nvidia-curand-cu12, nvidia-cufft-cu12, nvidia-cuda-runtime-cu12, nvidia-cuda-nvrtc-cu12, nvidia-cuda-cupti-cu12, nvidia-cublas-cu12, multidict, fsspec, frozenlist, dill, async-timeout, aiohappyeyeballs, yarl, nvidia-cusparse-cu12, nvidia-cudnn-cu12, multiprocess, huggingface-hub, aiosignal, tokenizers, pathos, nvidia-cusolver-cu12, aiohttp, transformers, torch, torchvision, sagemaker-core, datasets, accelerate, sagemaker\n",
      "  Attempting uninstall: triton\n",
      "    Found existing installation: triton 2.2.0\n",
      "    Uninstalling triton-2.2.0:\n",
      "      Successfully uninstalled triton-2.2.0\n",
      "  Attempting uninstall: fsspec\n",
      "    Found existing installation: fsspec 2024.10.0\n",
      "    Uninstalling fsspec-2024.10.0:\n",
      "      Successfully uninstalled fsspec-2024.10.0\n",
      "  Attempting uninstall: dill\n",
      "    Found existing installation: dill 0.3.9\n",
      "    Uninstalling dill-0.3.9:\n",
      "      Successfully uninstalled dill-0.3.9\n",
      "  Attempting uninstall: multiprocess\n",
      "    Found existing installation: multiprocess 0.70.17\n",
      "    Uninstalling multiprocess-0.70.17:\n",
      "      Successfully uninstalled multiprocess-0.70.17\n",
      "  Attempting uninstall: pathos\n",
      "    Found existing installation: pathos 0.3.3\n",
      "    Uninstalling pathos-0.3.3:\n",
      "      Successfully uninstalled pathos-0.3.3\n",
      "  Attempting uninstall: torch\n",
      "    Found existing installation: torch 2.2.2\n",
      "    Uninstalling torch-2.2.2:\n",
      "      Successfully uninstalled torch-2.2.2\n",
      "  Attempting uninstall: torchvision\n",
      "    Found existing installation: torchvision 0.17.2\n",
      "    Uninstalling torchvision-0.17.2:\n",
      "      Successfully uninstalled torchvision-0.17.2\n",
      "  Attempting uninstall: sagemaker-core\n",
      "    Found existing installation: sagemaker-core 1.0.10\n",
      "    Uninstalling sagemaker-core-1.0.10:\n",
      "      Successfully uninstalled sagemaker-core-1.0.10\n",
      "  Attempting uninstall: sagemaker\n",
      "    Found existing installation: sagemaker 2.232.3\n",
      "    Uninstalling sagemaker-2.232.3:\n",
      "      Successfully uninstalled sagemaker-2.232.3\n",
      "Successfully installed accelerate-1.1.1 aiohappyeyeballs-2.4.3 aiohttp-3.11.8 aiosignal-1.3.1 async-timeout-5.0.1 datasets-3.1.0 dill-0.3.8 frozenlist-1.5.0 fsspec-2024.9.0 huggingface-hub-0.26.3 multidict-6.1.0 multiprocess-0.70.16 nvidia-cublas-cu12-12.1.3.1 nvidia-cuda-cupti-cu12-12.1.105 nvidia-cuda-nvrtc-cu12-12.1.105 nvidia-cuda-runtime-cu12-12.1.105 nvidia-cudnn-cu12-8.9.2.26 nvidia-cufft-cu12-11.0.2.54 nvidia-curand-cu12-10.3.2.106 nvidia-cusolver-cu12-11.4.5.107 nvidia-cusparse-cu12-12.1.0.106 nvidia-nccl-cu12-2.18.1 nvidia-nvjitlink-cu12-12.6.85 nvidia-nvtx-cu12-12.1.105 pathos-0.3.2 propcache-0.2.0 regex-2024.11.6 safetensors-0.4.5 sagemaker-2.235.2 sagemaker-core-1.0.16 sentencepiece-0.2.0 tokenizers-0.20.3 torch-2.1.0 torchvision-0.16.0 transformers-4.46.3 triton-2.1.0 xxhash-3.5.0 yarl-1.18.0\n",
      "Note: you may need to restart the kernel to use updated packages.\n"
     ]
    }
   ],
   "source": [
    "pip install --upgrade torch==2.1.0 torchvision==0.16 transformers sagemaker sentencepiece accelerate datasets"
   ]
  },
  {
   "cell_type": "markdown",
   "id": "dee4d9d4-6e00-4f6c-b34f-a84a124a3caa",
   "metadata": {},
   "source": [
    "|Topic|URL(s)|\n",
    "|--|--|   \n",
    "|For the list of foundation models on Amazon Sagemaker|https://docs.aws.amazon.com/sagemaker/latest/dg/jumpstart-foundation-models.html|\n",
    "|List of pretrained models|https://sagemaker.readthedocs.io/en/stable/doc_utils/pretrainedmodels.html|\n",
    "|SageMaker APIs|<ul><li>https://aws.amazon.com/developer/tools/</li><li>https://sagemaker.readthedocs.io/en/stable/overview.html</li></ul>|\n",
    "|Fine tuning models using Jumpstart Estimator|https://docs.aws.amazon.com/sagemaker/latest/dg/jumpstart-foundation-models-use-python-sdk-estimator-class.html|\n",
    "|Fine tuning models using domain adaptation|https://docs.aws.amazon.com/sagemaker/latest/dg/jumpstart-foundation-models-fine-tuning-domain-adaptation.html|\n",
    "|Fine tuning models using instruction prompts|https://docs.aws.amazon.com/sagemaker/latest/dg/jumpstart-foundation-models-fine-tuning-instruction-based.html|\n",
    "|Huggingface page for the RoBERTa Model used in this notebook|https://huggingface.co/distilbert/distilroberta-base|\n"
   ]
  },
  {
   "cell_type": "markdown",
   "id": "e9824777-e94d-4245-bd68-155fad215194",
   "metadata": {},
   "source": [
    "For this experiment we shall use RoBERTa model `distilbert/distilroberta-base` which is fine tunable and available in HuggingFace hub: https://huggingface.co/distilbert/distilroberta-base\n",
    "\n",
    "**As always, make sure to read the usage considerations, bias, risk, and limitations, and training details of the model before using it**"
   ]
  },
  {
   "cell_type": "code",
   "execution_count": 3,
   "id": "368fb20d-7831-4b8e-b322-5110e5a88cea",
   "metadata": {},
   "outputs": [],
   "source": [
    "model_id = \"distilbert/distilroberta-base\""
   ]
  },
  {
   "cell_type": "code",
   "execution_count": 4,
   "id": "4cba7726-8683-4b09-bdbd-ee47cfe7a3fe",
   "metadata": {
    "editable": true,
    "slideshow": {
     "slide_type": ""
    },
    "tags": []
   },
   "outputs": [
    {
     "data": {
      "application/vnd.jupyter.widget-view+json": {
       "model_id": "e23bf729fcca44b1969440b7b8257eff",
       "version_major": 2,
       "version_minor": 0
      },
      "text/plain": [
       "tokenizer_config.json:   0%|          | 0.00/25.0 [00:00<?, ?B/s]"
      ]
     },
     "metadata": {},
     "output_type": "display_data"
    },
    {
     "data": {
      "application/vnd.jupyter.widget-view+json": {
       "model_id": "1478c2b8f1bc474abfabae6e05eae806",
       "version_major": 2,
       "version_minor": 0
      },
      "text/plain": [
       "config.json:   0%|          | 0.00/480 [00:00<?, ?B/s]"
      ]
     },
     "metadata": {},
     "output_type": "display_data"
    },
    {
     "data": {
      "application/vnd.jupyter.widget-view+json": {
       "model_id": "cb5999771c184eed931a09a011b8962e",
       "version_major": 2,
       "version_minor": 0
      },
      "text/plain": [
       "vocab.json:   0%|          | 0.00/899k [00:00<?, ?B/s]"
      ]
     },
     "metadata": {},
     "output_type": "display_data"
    },
    {
     "data": {
      "application/vnd.jupyter.widget-view+json": {
       "model_id": "fd69691bd9d84ad1af368a9781d62d06",
       "version_major": 2,
       "version_minor": 0
      },
      "text/plain": [
       "merges.txt:   0%|          | 0.00/456k [00:00<?, ?B/s]"
      ]
     },
     "metadata": {},
     "output_type": "display_data"
    },
    {
     "data": {
      "application/vnd.jupyter.widget-view+json": {
       "model_id": "9b63e8e108d8474594471dfa50089d3d",
       "version_major": 2,
       "version_minor": 0
      },
      "text/plain": [
       "tokenizer.json:   0%|          | 0.00/1.36M [00:00<?, ?B/s]"
      ]
     },
     "metadata": {},
     "output_type": "display_data"
    }
   ],
   "source": [
    "import torch\n",
    "from transformers import AutoTokenizer, AutoModelForMaskedLM\n",
    "tokenizer = AutoTokenizer.from_pretrained(model_id)\n",
    "tokenizer.pad_token = tokenizer.eos_token\n",
    "#model = AutoModelForMaskedLM.from_pretrained(model_id, torch_dtype=torch.bfloat16,low_cpu_mem_usage=True)"
   ]
  },
  {
   "cell_type": "code",
   "execution_count": 24,
   "id": "2cd4a958-000c-4b87-99fd-fc2d01dccacf",
   "metadata": {},
   "outputs": [
    {
     "name": "stderr",
     "output_type": "stream",
     "text": [
      "Some weights of the model checkpoint at distilbert/distilroberta-base were not used when initializing RobertaForMaskedLM: ['roberta.pooler.dense.bias', 'roberta.pooler.dense.weight']\n",
      "- This IS expected if you are initializing RobertaForMaskedLM from the checkpoint of a model trained on another task or with another architecture (e.g. initializing a BertForSequenceClassification model from a BertForPreTraining model).\n",
      "- This IS NOT expected if you are initializing RobertaForMaskedLM from the checkpoint of a model that you expect to be exactly identical (initializing a BertForSequenceClassification model from a BertForSequenceClassification model).\n"
     ]
    }
   ],
   "source": [
    "# Use a pipeline as a high-level helper\n",
    "from transformers import pipeline\n",
    "unmask_pipe = pipeline(\"fill-mask\", model=model_id)"
   ]
  },
  {
   "cell_type": "markdown",
   "id": "3fdf3efa-6709-42dd-885b-cee1c12b9979",
   "metadata": {},
   "source": [
    "##### The following examples show masked texts providing a placeholder for \"fill in the blank\" type of answer. Note how poor the answers are for the model without fine tuning. Refer to the model card on Huggingface for details about the training corpus"
   ]
  },
  {
   "cell_type": "code",
   "execution_count": 35,
   "id": "0ecb411e-72f1-4c92-a122-dff41ce48d19",
   "metadata": {},
   "outputs": [
    {
     "data": {
      "text/plain": [
       "[{'score': 0.14858654141426086,\n",
       "  'token': 8481,\n",
       "  'token_str': 'China',\n",
       "  'sequence': 'China is the largest country in the world by area'},\n",
       " {'score': 0.08127991855144501,\n",
       "  'token': 31004,\n",
       "  'token_str': 'Brazil',\n",
       "  'sequence': 'Brazil is the largest country in the world by area'},\n",
       " {'score': 0.06448844075202942,\n",
       "  'token': 11015,\n",
       "  'token_str': 'India',\n",
       "  'sequence': 'India is the largest country in the world by area'},\n",
       " {'score': 0.049340859055519104,\n",
       "  'token': 33133,\n",
       "  'token_str': 'Turkey',\n",
       "  'sequence': 'Turkey is the largest country in the world by area'},\n",
       " {'score': 0.037434160709381104,\n",
       "  'token': 20700,\n",
       "  'token_str': 'Pakistan',\n",
       "  'sequence': 'Pakistan is the largest country in the world by area'}]"
      ]
     },
     "execution_count": 35,
     "metadata": {},
     "output_type": "execute_result"
    }
   ],
   "source": [
    "input_text = \"<mask> is the largest country in the world by area\"\n",
    "unmask_pipe(input_text,top_k= 5)"
   ]
  },
  {
   "cell_type": "code",
   "execution_count": 37,
   "id": "423ee51d-3a6e-4041-943e-e0a64b3ae8f5",
   "metadata": {},
   "outputs": [
    {
     "data": {
      "text/plain": [
       "[{'score': 0.2082318216562271,\n",
       "  'token': 23122,\n",
       "  'token_str': 'London',\n",
       "  'sequence': 'London is the largest city in the world by area'},\n",
       " {'score': 0.1920369565486908,\n",
       "  'token': 32826,\n",
       "  'token_str': 'Paris',\n",
       "  'sequence': 'Paris is the largest city in the world by area'},\n",
       " {'score': 0.02755577303469181,\n",
       "  'token': 20983,\n",
       "  'token_str': 'Manchester',\n",
       "  'sequence': 'Manchester is the largest city in the world by area'},\n",
       " {'score': 0.027195390313863754,\n",
       "  'token': 30358,\n",
       "  'token_str': 'Toronto',\n",
       "  'sequence': 'Toronto is the largest city in the world by area'},\n",
       " {'score': 0.024872828274965286,\n",
       "  'token': 41384,\n",
       "  'token_str': 'Moscow',\n",
       "  'sequence': 'Moscow is the largest city in the world by area'}]"
      ]
     },
     "execution_count": 37,
     "metadata": {},
     "output_type": "execute_result"
    }
   ],
   "source": [
    "input_text = \"<mask> is the largest city in the world by area\"\n",
    "unmask_pipe(input_text, top_k=5)"
   ]
  },
  {
   "cell_type": "markdown",
   "id": "f3b53e06-c206-4f34-9b7f-c8543daf62e9",
   "metadata": {},
   "source": [
    "##### The following asks the same question by shifting the placement of mask. Notice how the answer varies"
   ]
  },
  {
   "cell_type": "code",
   "execution_count": 38,
   "id": "ce3ff652-b720-4c3b-ae4d-058c3457909f",
   "metadata": {},
   "outputs": [
    {
     "data": {
      "text/plain": [
       "[{'score': 0.07826175540685654,\n",
       "  'token': 6798,\n",
       "  'token_str': ' Dubai',\n",
       "  'sequence': 'The largest city in the world by area is Dubai'},\n",
       " {'score': 0.06888768821954727,\n",
       "  'token': 12275,\n",
       "  'token_str': ' Istanbul',\n",
       "  'sequence': 'The largest city in the world by area is Istanbul'},\n",
       " {'score': 0.0451258048415184,\n",
       "  'token': 16680,\n",
       "  'token_str': ' Jakarta',\n",
       "  'sequence': 'The largest city in the world by area is Jakarta'},\n",
       " {'score': 0.04360025003552437,\n",
       "  'token': 4612,\n",
       "  'token_str': ' Barcelona',\n",
       "  'sequence': 'The largest city in the world by area is Barcelona'},\n",
       " {'score': 0.03441775590181351,\n",
       "  'token': 5729,\n",
       "  'token_str': ' Mumbai',\n",
       "  'sequence': 'The largest city in the world by area is Mumbai'}]"
      ]
     },
     "execution_count": 38,
     "metadata": {},
     "output_type": "execute_result"
    }
   ],
   "source": [
    "input_text = \"The largest city in the world by area is <mask>\"\n",
    "unmask_pipe(input_text, top_k=5)"
   ]
  },
  {
   "cell_type": "code",
   "execution_count": 39,
   "id": "0ab7341a-9f63-4fc0-9fbd-0a15ce8b4af9",
   "metadata": {},
   "outputs": [
    {
     "data": {
      "text/plain": [
       "[{'score': 0.04338939115405083,\n",
       "  'token': 4034,\n",
       "  'token_str': ' 47',\n",
       "  'sequence': 'United States of America has 47 states'},\n",
       " {'score': 0.03533728048205376,\n",
       "  'token': 4059,\n",
       "  'token_str': ' 46',\n",
       "  'sequence': 'United States of America has 46 states'},\n",
       " {'score': 0.024327823892235756,\n",
       "  'token': 2766,\n",
       "  'token_str': ' 49',\n",
       "  'sequence': 'United States of America has 49 states'},\n",
       " {'score': 0.023394925519824028,\n",
       "  'token': 3550,\n",
       "  'token_str': ' 44',\n",
       "  'sequence': 'United States of America has 44 states'},\n",
       " {'score': 0.022955384105443954,\n",
       "  'token': 2843,\n",
       "  'token_str': ' 38',\n",
       "  'sequence': 'United States of America has 38 states'}]"
      ]
     },
     "execution_count": 39,
     "metadata": {},
     "output_type": "execute_result"
    }
   ],
   "source": [
    "input_text = \"United States of America has <mask> states\"\n",
    "unmask_pipe(input_text, top_k=5)"
   ]
  },
  {
   "cell_type": "code",
   "execution_count": 41,
   "id": "3509082b-2b46-4c34-ac9b-c6a2d797643c",
   "metadata": {},
   "outputs": [
    {
     "data": {
      "text/plain": [
       "[[{'score': 0.03974457457661629,\n",
       "   'token': 16968,\n",
       "   'token_str': ' vaccines',\n",
       "   'sequence': 'Influenza is caused by vaccines'},\n",
       "  {'score': 0.03954038396477699,\n",
       "   'token': 21717,\n",
       "   'token_str': ' viruses',\n",
       "   'sequence': 'Influenza is caused by viruses'},\n",
       "  {'score': 0.03611234575510025,\n",
       "   'token': 24994,\n",
       "   'token_str': ' mosquitoes',\n",
       "   'sequence': 'Influenza is caused by mosquitoes'},\n",
       "  {'score': 0.02466738037765026,\n",
       "   'token': 25393,\n",
       "   'token_str': ' pesticides',\n",
       "   'sequence': 'Influenza is caused by pesticides'},\n",
       "  {'score': 0.0235974732786417,\n",
       "   'token': 28848,\n",
       "   'token_str': ' genetics',\n",
       "   'sequence': 'Influenza is caused by genetics'}],\n",
       " [{'score': 0.3872624337673187,\n",
       "   'token': 8731,\n",
       "   'token_str': ' gut',\n",
       "   'sequence': 'Strep throat is caused by gut bacteria'},\n",
       "  {'score': 0.22904224693775177,\n",
       "   'token': 39475,\n",
       "   'token_str': ' intestinal',\n",
       "   'sequence': 'Strep throat is caused by intestinal bacteria'},\n",
       "  {'score': 0.02543472684919834,\n",
       "   'token': 11190,\n",
       "   'token_str': ' harmful',\n",
       "   'sequence': 'Strep throat is caused by harmful bacteria'},\n",
       "  {'score': 0.02004951797425747,\n",
       "   'token': 28935,\n",
       "   'token_str': ' airborne',\n",
       "   'sequence': 'Strep throat is caused by airborne bacteria'},\n",
       "  {'score': 0.020047204568982124,\n",
       "   'token': 11651,\n",
       "   'token_str': ' oral',\n",
       "   'sequence': 'Strep throat is caused by oral bacteria'}],\n",
       " [{'score': 0.10993392020463943,\n",
       "   'token': 30239,\n",
       "   'token_str': ' epilepsy',\n",
       "   'sequence': 'Acetaminophen can be used to treat epilepsy'},\n",
       "  {'score': 0.08990480750799179,\n",
       "   'token': 7704,\n",
       "   'token_str': ' diabetes',\n",
       "   'sequence': 'Acetaminophen can be used to treat diabetes'},\n",
       "  {'score': 0.0727168545126915,\n",
       "   'token': 18881,\n",
       "   'token_str': ' asthma',\n",
       "   'sequence': 'Acetaminophen can be used to treat asthma'},\n",
       "  {'score': 0.06563840806484222,\n",
       "   'token': 30360,\n",
       "   'token_str': ' acne',\n",
       "   'sequence': 'Acetaminophen can be used to treat acne'},\n",
       "  {'score': 0.06209726631641388,\n",
       "   'token': 33286,\n",
       "   'token_str': ' ADHD',\n",
       "   'sequence': 'Acetaminophen can be used to treat ADHD'}],\n",
       " [{'score': 0.15785947442054749,\n",
       "   'token': 35,\n",
       "   'token_str': ':',\n",
       "   'sequence': 'Example of an antibiotic is:'},\n",
       "  {'score': 0.03944052383303642,\n",
       "   'token': 7092,\n",
       "   'token_str': ' pictured',\n",
       "   'sequence': 'Example of an antibiotic is pictured'},\n",
       "  {'score': 0.03556134179234505,\n",
       "   'token': 2343,\n",
       "   'token_str': ' shown',\n",
       "   'sequence': 'Example of an antibiotic is shown'},\n",
       "  {'score': 0.027701275423169136,\n",
       "   'token': 874,\n",
       "   'token_str': ' below',\n",
       "   'sequence': 'Example of an antibiotic is below'},\n",
       "  {'score': 0.02731069177389145,\n",
       "   'token': 259,\n",
       "   'token_str': ' here',\n",
       "   'sequence': 'Example of an antibiotic is here'}],\n",
       " [{'score': 0.020834749564528465,\n",
       "   'token': 39447,\n",
       "   'token_str': ' aspirin',\n",
       "   'sequence': ' aspirin is an antibacterial drug'},\n",
       "  {'score': 0.0185586828738451,\n",
       "   'token': 44120,\n",
       "   'token_str': 'ratom',\n",
       "   'sequence': 'ratom is an antibacterial drug'},\n",
       "  {'score': 0.013826805166900158,\n",
       "   'token': 713,\n",
       "   'token_str': 'This',\n",
       "   'sequence': 'This is an antibacterial drug'},\n",
       "  {'score': 0.011789361946284771,\n",
       "   'token': 243,\n",
       "   'token_str': 'It',\n",
       "   'sequence': 'It is an antibacterial drug'},\n",
       "  {'score': 0.010542799718677998,\n",
       "   'token': 43612,\n",
       "   'token_str': 'RNA',\n",
       "   'sequence': 'RNA is an antibacterial drug'}]]"
      ]
     },
     "execution_count": 41,
     "metadata": {},
     "output_type": "execute_result"
    }
   ],
   "source": [
    "input_texts = [\"Influenza is caused by <mask>\", \"Strep throat is caused by <mask> bacteria\", \\\n",
    "               \"Acetaminophen can be used to treat <mask>\", \"Example of an antibiotic is <mask>\",\\\n",
    "              \"<mask> is an antibacterial drug\"]\n",
    "unmask_pipe(input_texts, top_k=5)"
   ]
  },
  {
   "cell_type": "code",
   "execution_count": 42,
   "id": "45d35550-d5a2-4d49-8200-d24068f3e49e",
   "metadata": {},
   "outputs": [
    {
     "data": {
      "text/plain": [
       "[{'score': 0.08012279868125916,\n",
       "  'token': 47458,\n",
       "  'token_str': 'Lenin',\n",
       "  'sequence': 'Lenin built the great wall of China'},\n",
       " {'score': 0.06752075254917145,\n",
       "  'token': 12375,\n",
       "  'token_str': 'Who',\n",
       "  'sequence': 'Who built the great wall of China'},\n",
       " {'score': 0.04769080877304077,\n",
       "  'token': 8481,\n",
       "  'token_str': 'China',\n",
       "  'sequence': 'China built the great wall of China'},\n",
       " {'score': 0.0431637316942215,\n",
       "  'token': 39858,\n",
       "  'token_str': 'Whoever',\n",
       "  'sequence': 'Whoever built the great wall of China'},\n",
       " {'score': 0.025495178997516632,\n",
       "  'token': 1185,\n",
       "  'token_str': 'You',\n",
       "  'sequence': 'You built the great wall of China'}]"
      ]
     },
     "execution_count": 42,
     "metadata": {},
     "output_type": "execute_result"
    }
   ],
   "source": [
    "input_text = \"<mask> built the great wall of China\"\n",
    "unmask_pipe(input_text, top_k=5)"
   ]
  },
  {
   "cell_type": "code",
   "execution_count": 43,
   "id": "80a27748-f5be-4477-8f1b-6eb8bf7925fc",
   "metadata": {},
   "outputs": [
    {
     "data": {
      "text/plain": [
       "[{'score': 0.0636025071144104,\n",
       "  'token': 41496,\n",
       "  'token_str': 'Ocean',\n",
       "  'sequence': 'Ocean is the largest ocean in the world'},\n",
       " {'score': 0.06237642839550972,\n",
       "  'token': 243,\n",
       "  'token_str': 'It',\n",
       "  'sequence': 'It is the largest ocean in the world'},\n",
       " {'score': 0.053864073008298874,\n",
       "  'token': 34526,\n",
       "  'token_str': 'Earth',\n",
       "  'sequence': 'Earth is the largest ocean in the world'},\n",
       " {'score': 0.05324801430106163,\n",
       "  'token': 5860,\n",
       "  'token_str': ' Ocean',\n",
       "  'sequence': ' Ocean is the largest ocean in the world'},\n",
       " {'score': 0.047932833433151245,\n",
       "  'token': 37697,\n",
       "  'token_str': 'Sea',\n",
       "  'sequence': 'Sea is the largest ocean in the world'}]"
      ]
     },
     "execution_count": 43,
     "metadata": {},
     "output_type": "execute_result"
    }
   ],
   "source": [
    "input_text = \"<mask> is the largest ocean in the world\"\n",
    "unmask_pipe(input_text, top_k=5)"
   ]
  },
  {
   "cell_type": "code",
   "execution_count": 46,
   "id": "5bbed25f-dda3-44c4-8b2c-bf1e53c61b94",
   "metadata": {},
   "outputs": [
    {
     "data": {
      "text/plain": [
       "[[{'score': 0.2434065043926239,\n",
       "   'token': 30726,\n",
       "   'token_str': ' Newly',\n",
       "   'sequence': ' Newly discovered Xrays'},\n",
       "  {'score': 0.2107158601284027,\n",
       "   'token': 3862,\n",
       "   'token_str': ' newly',\n",
       "   'sequence': ' newly discovered Xrays'},\n",
       "  {'score': 0.1592417061328888,\n",
       "   'token': 45095,\n",
       "   'token_str': 'Previously',\n",
       "   'sequence': 'Previously discovered Xrays'},\n",
       "  {'score': 0.04660941660404205,\n",
       "   'token': 38386,\n",
       "   'token_str': 'Recently',\n",
       "   'sequence': 'Recently discovered Xrays'},\n",
       "  {'score': 0.022596264258027077,\n",
       "   'token': 4030,\n",
       "   'token_str': 'New',\n",
       "   'sequence': 'New discovered Xrays'}],\n",
       " [{'score': 0.20618940889835358,\n",
       "   'token': 4727,\n",
       "   'token_str': ' unknown',\n",
       "   'sequence': 'The name of the scientist who discovered the phenomenon of X-ray was unknown'},\n",
       "  {'score': 0.12664254009723663,\n",
       "   'token': 22292,\n",
       "   'token_str': ' withheld',\n",
       "   'sequence': 'The name of the scientist who discovered the phenomenon of X-ray was withheld'},\n",
       "  {'score': 0.10497443377971649,\n",
       "   'token': 35,\n",
       "   'token_str': ':',\n",
       "   'sequence': 'The name of the scientist who discovered the phenomenon of X-ray was:'},\n",
       "  {'score': 0.0572555847465992,\n",
       "   'token': 1714,\n",
       "   'token_str': ' changed',\n",
       "   'sequence': 'The name of the scientist who discovered the phenomenon of X-ray was changed'},\n",
       "  {'score': 0.03274037688970566,\n",
       "   'token': 1487,\n",
       "   'token_str': ' revealed',\n",
       "   'sequence': 'The name of the scientist who discovered the phenomenon of X-ray was revealed'}],\n",
       " [{'score': 0.3178434371948242,\n",
       "   'token': 1440,\n",
       "   'token_str': ' named',\n",
       "   'sequence': 'The physicist responsible for the discovery of Xrays was named'},\n",
       "  {'score': 0.05714030563831329,\n",
       "   'token': 2421,\n",
       "   'token_str': ' born',\n",
       "   'sequence': 'The physicist responsible for the discovery of Xrays was born'},\n",
       "  {'score': 0.03808579593896866,\n",
       "   'token': 1128,\n",
       "   'token_str': ' arrested',\n",
       "   'sequence': 'The physicist responsible for the discovery of Xrays was arrested'},\n",
       "  {'score': 0.02644590102136135,\n",
       "   'token': 2277,\n",
       "   'token_str': ' fired',\n",
       "   'sequence': 'The physicist responsible for the discovery of Xrays was fired'},\n",
       "  {'score': 0.015746060758829117,\n",
       "   'token': 31762,\n",
       "   'token_str': ' assassinated',\n",
       "   'sequence': 'The physicist responsible for the discovery of Xrays was assassinated'}]]"
      ]
     },
     "execution_count": 46,
     "metadata": {},
     "output_type": "execute_result"
    }
   ],
   "source": [
    "input_texts = [\"<mask> discovered Xrays\",\\\n",
    "\"The name of the scientist who discovered the phenomenon of X-ray was <mask>\",\\\n",
    "\"The physicist responsible for the discovery of Xrays was <mask>\"]\n",
    "unmask_pipe(input_texts, top_k=5)"
   ]
  },
  {
   "cell_type": "code",
   "execution_count": 47,
   "id": "7f17d0d7-5358-42c0-b180-2c3a4e465676",
   "metadata": {},
   "outputs": [
    {
     "data": {
      "text/plain": [
       "[{'score': 0.04041153937578201,\n",
       "  'token': 4727,\n",
       "  'token_str': ' unknown',\n",
       "  'sequence': 'The atomic weight of selenium is unknown'},\n",
       " {'score': 0.018839875236153603,\n",
       "  'token': 2284,\n",
       "  'token_str': ' increasing',\n",
       "  'sequence': 'The atomic weight of selenium is increasing'},\n",
       " {'score': 0.015256152488291264,\n",
       "  'token': 4276,\n",
       "  'token_str': ' zero',\n",
       "  'sequence': 'The atomic weight of selenium is zero'},\n",
       " {'score': 0.012496164068579674,\n",
       "  'token': 20910,\n",
       "  'token_str': ' decreasing',\n",
       "  'sequence': 'The atomic weight of selenium is decreasing'},\n",
       " {'score': 0.00959750171750784,\n",
       "  'token': 36334,\n",
       "  'token_str': ' negligible',\n",
       "  'sequence': 'The atomic weight of selenium is negligible'}]"
      ]
     },
     "execution_count": 47,
     "metadata": {},
     "output_type": "execute_result"
    }
   ],
   "source": [
    "input_text = \"The atomic weight of selenium is <mask>\"\n",
    "unmask_pipe(input_text, top_k=5)"
   ]
  },
  {
   "cell_type": "code",
   "execution_count": 48,
   "id": "9b7272fe-6e22-4689-82b4-da7a47745d13",
   "metadata": {},
   "outputs": [
    {
     "data": {
      "text/plain": [
       "[{'score': 0.058124203234910965,\n",
       "  'token': 27593,\n",
       "  'token_str': ' Antarctica',\n",
       "  'sequence': 'The deepest point in the Pacific ocean is Antarctica'},\n",
       " {'score': 0.04617989435791969,\n",
       "  'token': 16974,\n",
       "  'token_str': ' underwater',\n",
       "  'sequence': 'The deepest point in the Pacific ocean is underwater'},\n",
       " {'score': 0.04363410174846649,\n",
       "  'token': 1666,\n",
       "  'token_str': ' ...',\n",
       "  'sequence': 'The deepest point in the Pacific ocean is ...'},\n",
       " {'score': 0.024700311943888664,\n",
       "  'token': 734,\n",
       "  'token_str': '...',\n",
       "  'sequence': 'The deepest point in the Pacific ocean is...'},\n",
       " {'score': 0.022545766085386276,\n",
       "  'token': 1174,\n",
       "  'token_str': '…',\n",
       "  'sequence': 'The deepest point in the Pacific ocean is…'}]"
      ]
     },
     "execution_count": 48,
     "metadata": {},
     "output_type": "execute_result"
    }
   ],
   "source": [
    "input_text = \"The deepest point in the Pacific ocean is <mask>\"\n",
    "unmask_pipe(input_text, top_k=5)"
   ]
  },
  {
   "cell_type": "code",
   "execution_count": 52,
   "id": "9239d582-5e1a-4ec6-83d2-0453758bcc19",
   "metadata": {},
   "outputs": [
    {
     "data": {
      "text/plain": [
       "[{'score': 0.14769397675991058,\n",
       "  'token': 17210,\n",
       "  'token_str': ' thermal',\n",
       "  'sequence': 'The most common high temperature deformation mechanism in aluminium alloy composites is due to thermal boundary sliding'},\n",
       " {'score': 0.03588949888944626,\n",
       "  'token': 12194,\n",
       "  'token_str': ' vertical',\n",
       "  'sequence': 'The most common high temperature deformation mechanism in aluminium alloy composites is due to vertical boundary sliding'},\n",
       " {'score': 0.017547065392136574,\n",
       "  'token': 4084,\n",
       "  'token_str': ' surface',\n",
       "  'sequence': 'The most common high temperature deformation mechanism in aluminium alloy composites is due to surface boundary sliding'},\n",
       " {'score': 0.01499862689524889,\n",
       "  'token': 25490,\n",
       "  'token_str': ' horizontal',\n",
       "  'sequence': 'The most common high temperature deformation mechanism in aluminium alloy composites is due to horizontal boundary sliding'},\n",
       " {'score': 0.014807412400841713,\n",
       "  'token': 4204,\n",
       "  'token_str': ' metal',\n",
       "  'sequence': 'The most common high temperature deformation mechanism in aluminium alloy composites is due to metal boundary sliding'}]"
      ]
     },
     "execution_count": 52,
     "metadata": {},
     "output_type": "execute_result"
    }
   ],
   "source": [
    "input_text = \"The most common high temperature deformation mechanism in aluminium alloy \\\n",
    "composites is due to <mask> boundary sliding\"\n",
    "unmask_pipe(input_text, top_k=5)"
   ]
  },
  {
   "cell_type": "code",
   "execution_count": null,
   "id": "6aeed0b1-4139-48e8-8ffb-f6ee463fce09",
   "metadata": {},
   "outputs": [],
   "source": []
  }
 ],
 "metadata": {
  "kernelspec": {
   "display_name": "conda_pytorch_p310",
   "language": "python",
   "name": "conda_pytorch_p310"
  },
  "language_info": {
   "codemirror_mode": {
    "name": "ipython",
    "version": 3
   },
   "file_extension": ".py",
   "mimetype": "text/x-python",
   "name": "python",
   "nbconvert_exporter": "python",
   "pygments_lexer": "ipython3",
   "version": "3.10.14"
  }
 },
 "nbformat": 4,
 "nbformat_minor": 5
}
